{
 "cells": [
  {
   "cell_type": "markdown",
   "metadata": {},
   "source": [
    "# Initialize"
   ]
  },
  {
   "cell_type": "code",
   "execution_count": 1,
   "metadata": {
    "scrolled": true
   },
   "outputs": [
    {
     "name": "stderr",
     "output_type": "stream",
     "text": [
      "/home/jupyter-user/.local/lib/python3.6/site-packages/pandas/compat/__init__.py:120: UserWarning: Could not import the lzma module. Your installed Python is incomplete. Attempting to use lzma compression will result in a RuntimeError.\n",
      "  warnings.warn(msg)\n"
     ]
    },
    {
     "name": "stdout",
     "output_type": "stream",
     "text": [
      "Importing Jupyter notebook from inCITE_tools.ipynb\n",
      "WARNING: If you miss a compact list, please try `print_header`!\n",
      "-----\n",
      "anndata     0.7.4\n",
      "scanpy      1.6.0\n",
      "sinfo       0.3.1\n",
      "-----\n",
      "PIL                 7.2.0\n",
      "anndata             0.7.4\n",
      "attr                19.1.0\n",
      "backcall            0.1.0\n",
      "cffi                1.12.3\n",
      "cycler              0.10.0\n",
      "cython_runtime      NA\n",
      "dateutil            2.6.1\n",
      "decorator           4.3.0\n",
      "descartes           NA\n",
      "get_version         2.1\n",
      "google              NA\n",
      "h5py                2.10.0\n",
      "idna                2.8\n",
      "igraph              0.8.0\n",
      "importlib_metadata  1.5.0\n",
      "inCITE_tools        NA\n",
      "ipykernel           5.1.2\n",
      "ipython_genutils    0.2.0\n",
      "ipywidgets          7.5.1\n",
      "jedi                0.15.1\n",
      "joblib              0.11\n",
      "jsonschema          3.0.2\n",
      "kiwisolver          1.1.0\n",
      "legacy_api_wrap     1.2\n",
      "leidenalg           0.8.0\n",
      "llvmlite            0.31.0\n",
      "louvain             0.6.1\n",
      "matplotlib          3.1.3\n",
      "mizani              0.7.1\n",
      "mpl_toolkits        NA\n",
      "natsort             7.0.1\n",
      "nbformat            4.4.0\n",
      "nbimporter          NA\n",
      "numba               0.48.0\n",
      "numexpr             2.7.1\n",
      "numpy               1.18.5\n",
      "packaging           19.1\n",
      "palettable          3.3.0\n",
      "pandas              1.1.2\n",
      "parso               0.5.1\n",
      "patsy               0.5.1\n",
      "pexpect             4.7.0\n",
      "pickleshare         0.7.5\n",
      "pkg_resources       NA\n",
      "plotnine            0.7.1+6.g6d6564d\n",
      "prompt_toolkit      2.0.9\n",
      "ptyprocess          0.6.0\n",
      "pvectorc            NA\n",
      "pygments            2.4.2\n",
      "pyparsing           2.2.0\n",
      "pyrsistent          NA\n",
      "pytz                2017.3\n",
      "scanpy              1.6.0\n",
      "scipy               1.4.1\n",
      "scvelo              0.2.2\n",
      "seaborn             0.11.0\n",
      "setuptools_scm      NA\n",
      "sinfo               0.3.1\n",
      "six                 1.11.0\n",
      "sklearn             0.22.2\n",
      "statannot           0.2.3\n",
      "statsmodels         0.11.1\n",
      "storemagic          NA\n",
      "tables              3.6.1\n",
      "texttable           1.6.2\n",
      "tornado             6.0.4\n",
      "traitlets           4.3.2\n",
      "typing_extensions   NA\n",
      "wcwidth             NA\n",
      "yaml                3.12\n",
      "zipp                NA\n",
      "zmq                 18.1.0\n",
      "-----\n",
      "IPython             7.7.0\n",
      "jupyter_client      5.3.1\n",
      "jupyter_core        4.5.0\n",
      "jupyterlab          0.35.4\n",
      "notebook            5.7.8\n",
      "-----\n",
      "Python 3.6.8 (default, Aug 23 2019, 20:28:53) [GCC 6.3.0 20170516]\n",
      "Linux-4.9.0-9-amd64-x86_64-with-debian-9.9\n",
      "32 logical CPU cores\n",
      "-----\n",
      "Session information updated at 2020-11-19 23:29\n",
      "\n"
     ]
    }
   ],
   "source": [
    "import numpy as np\n",
    "import pandas as pd\n",
    "import scanpy as sc\n",
    "import matplotlib.pyplot as plt\n",
    "import os\n",
    "import nbimporter\n",
    "import inCITE_tools as ict\n",
    "import statsmodels.stats as sms\n",
    "import scvelo as scv\n",
    "scv.set_figure_params()\n",
    "\n",
    "run_folder = 'p65_inCITE'\n",
    "target_dir = 'seq_data/%s' %run_folder\n",
    "\n",
    "sc.settings.figdir = './analyses/%s' %run_folder\n",
    "if not os.path.isdir(sc.settings.figdir): os.makedirs(sc.settings.figdir)\n",
    "sc.settings.verbosity = 3            \n",
    "sc.logging.print_versions()\n",
    "\n",
    "processed_file = './write/p65_inCITE.h5ad'\n",
    "adata = sc.read(processed_file)\n",
    "\n",
    "antibodies = ['p65']\n",
    "adata.obs['annot'] = adata.obs['assignment']\n"
   ]
  },
  {
   "cell_type": "markdown",
   "metadata": {},
   "source": [
    "# Compare RNA and CITE"
   ]
  },
  {
   "cell_type": "code",
   "execution_count": 2,
   "metadata": {},
   "outputs": [
    {
     "name": "stdout",
     "output_type": "stream",
     "text": [
      "Slope 0.0387 \t R^2 0.0008 \t pval 0.004098\n",
      "0.0008227187032691947\n",
      "0.00409762651116943\n"
     ]
    },
    {
     "data": {
      "image/png": "[encoded data removed]",
      "text/plain": [
       "<Figure size 216x216 with 1 Axes>"
      ]
     },
     "metadata": {
      "needs_background": "light"
     },
     "output_type": "display_data"
    }
   ],
   "source": [
    "plt.figure(figsize=(3,3))\n",
    "axes = plt.axes()\n",
    "\n",
    "gene = 'RELA'\n",
    "protein = 'p65_nCLR'\n",
    "\n",
    "axes.set_ylim([-2,2])\n",
    "axes.set_yticks([-2,0,2])\n",
    "axes.set_yticklabels(labels=[-2,0,2], fontsize=12)\n",
    "\n",
    "axes.spines['top'].set_visible(False)\n",
    "axes.spines['right'].set_visible(False)\n",
    "axes.spines['bottom'].set_linewidth(1)\n",
    "axes.spines['left'].set_linewidth(1)\n",
    "axes.set_xlabel(xlabel=gene,fontsize=12)\n",
    "axes.set_ylabel(ylabel='p65 nCLR',fontsize=12)\n",
    "axes.figure.set_size_inches(3,3)\n",
    "\n",
    "x_list = ict.get_feat_values(adata, gene)\n",
    "y_list = ict.get_feat_values(adata, protein)\n",
    "color_vals = adata.obs['assignment'].map({'NT':'#34c6f4', 'TNFa':'#ef3b39'})\n",
    "\n",
    "plt.scatter(x_list+np.random.uniform(low=-0.05,high=0.05,size=len(x_list)), y_list,\n",
    "             s=1,alpha=0.3,color=list(color_vals),axes=axes) # '#78909C'\n",
    "plt.xlabel(gene,fontsize=12)\n",
    "plt.ylabel('p65 nCLR',fontsize=12)\n",
    "\n",
    "Rela_pos = adata[adata[:,gene].layers['counts'].toarray()>0]\n",
    "X_V,Y_V = ict.get_linear_regression_stats(adata,gene,protein)\n",
    "\n",
    "plt.savefig('%s/scatter_RELA_p65_nCLR_colored.pdf' %(sc.settings.figdir),\n",
    "                                                   bbox_inches='tight')"
   ]
  },
  {
   "cell_type": "markdown",
   "metadata": {},
   "source": [
    "# Linear model: Gene ~ p65 "
   ]
  },
  {
   "cell_type": "code",
   "execution_count": 4,
   "metadata": {
    "scrolled": true
   },
   "outputs": [
    {
     "name": "stdout",
     "output_type": "stream",
     "text": [
      "Loading prior run result\n",
      "Ran GLM_NegBin model with lognorm for cluster  and CITE p65_nCLR\n"
     ]
    },
    {
     "data": {
      "text/plain": [
       "Intercept               0\n",
       "p65_nCLR              142\n",
       "log_ncounts             0\n",
       "G2M_score             538\n",
       "S_score               293\n",
       "log_hashtag_counts    182\n",
       "dtype: int64"
      ]
     },
     "execution_count": 4,
     "metadata": {},
     "output_type": "execute_result"
    }
   ],
   "source": [
    "adata.obs['log_hashtag_counts'] = np.log(adata.obs['hashtag_counts'])\n",
    "FORMULA = 'Gene ~ p65_nCLR + log_ncounts + G2M_score + S_score + log_hashtag_counts' \n",
    "params_nCLR, pvals_nCLR = ict.run_linear_model(adata, FORMULA, \n",
    "                                        'HeLa_both_simple_p65_nCLR_model', '', \n",
    "                                         model='GLM_NegBin', run_mode='lognorm', \n",
    "                                         antibody='p65_nCLR')\n",
    "\n",
    "sig_nCLR = ict.get_significance_df(pvals_nCLR, method='fdr_bh', alpha=0.01)\n",
    "sig_nCLR.sum()"
   ]
  },
  {
   "cell_type": "markdown",
   "metadata": {},
   "source": [
    "### top genes + GO analysis"
   ]
  },
  {
   "cell_type": "code",
   "execution_count": 5,
   "metadata": {},
   "outputs": [
    {
     "data": {
      "text/html": [
       "<div>\n",
       "<style scoped>\n",
       "    .dataframe tbody tr th:only-of-type {\n",
       "        vertical-align: middle;\n",
       "    }\n",
       "\n",
       "    .dataframe tbody tr th {\n",
       "        vertical-align: top;\n",
       "    }\n",
       "\n",
       "    .dataframe thead th {\n",
       "        text-align: right;\n",
       "    }\n",
       "</style>\n",
       "<table border=\"1\" class=\"dataframe\">\n",
       "  <thead>\n",
       "    <tr style=\"text-align: right;\">\n",
       "      <th></th>\n",
       "      <th>Intercept</th>\n",
       "      <th>p65_nCLR</th>\n",
       "      <th>log_ncounts</th>\n",
       "      <th>G2M_score</th>\n",
       "      <th>S_score</th>\n",
       "      <th>log_hashtag_counts</th>\n",
       "    </tr>\n",
       "  </thead>\n",
       "  <tbody>\n",
       "    <tr>\n",
       "      <th>CXCL8</th>\n",
       "      <td>0.426881</td>\n",
       "      <td>8.35275e-38</td>\n",
       "      <td>0.426881</td>\n",
       "      <td>0.00432109</td>\n",
       "      <td>0.375902</td>\n",
       "      <td>4.21519e-05</td>\n",
       "    </tr>\n",
       "    <tr>\n",
       "      <th>NFKBIA</th>\n",
       "      <td>0.987962</td>\n",
       "      <td>1.85285e-34</td>\n",
       "      <td>0.987962</td>\n",
       "      <td>0.440888</td>\n",
       "      <td>0.86152</td>\n",
       "      <td>0.0286912</td>\n",
       "    </tr>\n",
       "    <tr>\n",
       "      <th>CXCL2</th>\n",
       "      <td>0.269936</td>\n",
       "      <td>4.92508e-23</td>\n",
       "      <td>0.269936</td>\n",
       "      <td>0.97161</td>\n",
       "      <td>0.0063283</td>\n",
       "      <td>0.0137725</td>\n",
       "    </tr>\n",
       "    <tr>\n",
       "      <th>TNFAIP3</th>\n",
       "      <td>0.312127</td>\n",
       "      <td>1.334e-20</td>\n",
       "      <td>0.312128</td>\n",
       "      <td>0.923569</td>\n",
       "      <td>0.189742</td>\n",
       "      <td>8.37703e-07</td>\n",
       "    </tr>\n",
       "    <tr>\n",
       "      <th>IER3</th>\n",
       "      <td>0.995787</td>\n",
       "      <td>3.11766e-19</td>\n",
       "      <td>0.995787</td>\n",
       "      <td>0.816495</td>\n",
       "      <td>0.120197</td>\n",
       "      <td>0.000632636</td>\n",
       "    </tr>\n",
       "    <tr>\n",
       "      <th>IL6</th>\n",
       "      <td>0.998128</td>\n",
       "      <td>5.50456e-19</td>\n",
       "      <td>0.998128</td>\n",
       "      <td>2.98653e-07</td>\n",
       "      <td>0.834394</td>\n",
       "      <td>7.8595e-08</td>\n",
       "    </tr>\n",
       "    <tr>\n",
       "      <th>JUN</th>\n",
       "      <td>0.490058</td>\n",
       "      <td>8.5847e-19</td>\n",
       "      <td>0.490058</td>\n",
       "      <td>0.941786</td>\n",
       "      <td>0.039721</td>\n",
       "      <td>4.66679e-07</td>\n",
       "    </tr>\n",
       "  </tbody>\n",
       "</table>\n",
       "</div>"
      ],
      "text/plain": [
       "        Intercept     p65_nCLR log_ncounts    G2M_score    S_score  \\\n",
       "CXCL8    0.426881  8.35275e-38    0.426881   0.00432109   0.375902   \n",
       "NFKBIA   0.987962  1.85285e-34    0.987962     0.440888    0.86152   \n",
       "CXCL2    0.269936  4.92508e-23    0.269936      0.97161  0.0063283   \n",
       "TNFAIP3  0.312127    1.334e-20    0.312128     0.923569   0.189742   \n",
       "IER3     0.995787  3.11766e-19    0.995787     0.816495   0.120197   \n",
       "IL6      0.998128  5.50456e-19    0.998128  2.98653e-07   0.834394   \n",
       "JUN      0.490058   8.5847e-19    0.490058     0.941786   0.039721   \n",
       "\n",
       "        log_hashtag_counts  \n",
       "CXCL8          4.21519e-05  \n",
       "NFKBIA           0.0286912  \n",
       "CXCL2            0.0137725  \n",
       "TNFAIP3        8.37703e-07  \n",
       "IER3           0.000632636  \n",
       "IL6             7.8595e-08  \n",
       "JUN            4.66679e-07  "
      ]
     },
     "execution_count": 5,
     "metadata": {},
     "output_type": "execute_result"
    }
   ],
   "source": [
    "upregulated_significant = pvals_nCLR[(sig_nCLR['p65_nCLR'] & params_nCLR['p65_nCLR']>0)]\n",
    "top10_p65_genes = upregulated_significant.sort_values(by='p65_nCLR',ascending=True).head(7)\n",
    "top10_p65_genes"
   ]
  },
  {
   "cell_type": "code",
   "execution_count": 6,
   "metadata": {
    "scrolled": true
   },
   "outputs": [
    {
     "data": {
      "image/png": "[encoded data removed]",
      "text/plain": [
       "<Figure size 216x72 with 1 Axes>"
      ]
     },
     "metadata": {
      "needs_background": "light"
     },
     "output_type": "display_data"
    }
   ],
   "source": [
    "GO_upregulated = ict.parse_GO_query(upregulated_significant.index, 'hsapiens')\n",
    "GO_upregulated = GO_upregulated.loc[GO_upregulated['source']=='GO:BP']\n",
    "ict.plot_GO_terms(GO_upregulated.head(10),0.05,'simple_model_NegBin_p65',xlims=[0,15])"
   ]
  },
  {
   "cell_type": "markdown",
   "metadata": {},
   "source": [
    "## plot top vs. bottom of p65"
   ]
  },
  {
   "cell_type": "code",
   "execution_count": 7,
   "metadata": {},
   "outputs": [],
   "source": [
    "def sort_idx_by_p65(indices, ad, feat='p65_norm'): \n",
    "    # sort cell indices by feature level\n",
    "    sorted_idx = ad.obs.loc[indices,feat].sort_values(ascending=False).index\n",
    "    return sorted_idx\n",
    "\n",
    "def p65_sorted_subset_by_treatment(ad, plot_N=1000, group_order=['TNFa','NT']):\n",
    "    import random \n",
    "    # select equal random subsets of each treatment \n",
    "    plot_indices = []\n",
    "    for treatment in group_order: \n",
    "        ad_clust = ad[ad.obs['assignment']==treatment]\n",
    "        idx = random.sample(set(ad_clust.obs.index), plot_N)\n",
    "        \n",
    "        # sort indices based on p65\n",
    "        sorted_idx = sort_idx_by_p65(idx, ad)\n",
    "        plot_indices.extend(list(sorted_idx))\n",
    "\n",
    "    return plot_indices\n"
   ]
  },
  {
   "cell_type": "code",
   "execution_count": 8,
   "metadata": {},
   "outputs": [],
   "source": [
    "# identify top 10% and bottom 10% of all cells based on p65 levels\n",
    "sorted_idx = sort_idx_by_p65(adata.obs.index,adata,'p65_nCLR')\n",
    "group_len = int(len(sorted_idx)/10)\n",
    "adata.obs['p65_level'] = 'p65_middle'\n",
    "adata.obs.loc[sorted_idx[0:group_len],'p65_level'] = 'p65_high'\n",
    "adata.obs.loc[sorted_idx[-group_len:],'p65_level'] = 'p65_low'\n",
    "ad_top_bottom = adata[((adata.obs['p65_level']=='p65_high')|(adata.obs['p65_level']=='p65_low'))]\n"
   ]
  },
  {
   "cell_type": "code",
   "execution_count": 9,
   "metadata": {},
   "outputs": [],
   "source": [
    "# for the top vs. bottom 10% p65 cells, construct data for plotting \n",
    "quintile_sorted_idx = sort_idx_by_p65(ad_top_bottom.obs.index,adata,'p65_nCLR')\n",
    "ad_top_bottom = ad_top_bottom[quintile_sorted_idx]\n",
    "plot_p65_level = ad_top_bottom.obs['p65_level']\n",
    "plot_p65_int = plot_p65_level.map({'p65_high':0,'p65_low':1})\n",
    "plot_p65_int = plot_p65_int.astype(int).to_frame()\n",
    "plot_p65_quintile = ad_top_bottom.obs['p65_nCLR'].to_frame()"
   ]
  },
  {
   "cell_type": "code",
   "execution_count": 10,
   "metadata": {},
   "outputs": [],
   "source": [
    "GENES_TO_PLOT = top10_p65_genes.index\n",
    "VALUES = 'zscore'\n",
    "if VALUES=='zscore':\n",
    "    vals = ad_top_bottom[:,GENES_TO_PLOT].X\n",
    "#     vals = ad_top_bottom[:,GENES_TO_PLOT].layers['zscore'].toarray()\n",
    "elif VALUES=='lognorm': \n",
    "    vals = ad_top_bottom[:,GENES_TO_PLOT].layers['counts'].toarray()\n",
    "plot_matrix_quintile = pd.DataFrame(vals, index=ad_top_bottom.obs.index,columns=GENES_TO_PLOT)\n"
   ]
  },
  {
   "cell_type": "code",
   "execution_count": 11,
   "metadata": {
    "scrolled": true
   },
   "outputs": [
    {
     "data": {
      "image/png": "[encoded data removed]",
      "text/plain": [
       "<Figure size 600x400 with 4 Axes>"
      ]
     },
     "metadata": {},
     "output_type": "display_data"
    }
   ],
   "source": [
    "import seaborn as sns\n",
    "sns.reset_orig()\n",
    "fig, (ax1, ax2, ax3) = plt.subplots(3, 1, sharex=True, figsize=(6,4), \n",
    "                               gridspec_kw={'height_ratios': [0.05, 1.2, 2]})\n",
    "\n",
    "# subplot 2\n",
    "sns.heatmap(plot_p65_int.T,\n",
    "           cmap=['k','#d3d3d3'],\n",
    "           yticklabels=[], xticklabels=[],\n",
    "           ax=ax1, cbar=False)\n",
    "\n",
    "# subplot 1\n",
    "ax2.bar(height=plot_p65_quintile['p65_nCLR'],\n",
    "        x=ad_top_bottom.obs.index, \n",
    "       color='#bfbfbf')\n",
    "ax2.set_xticks([])\n",
    "ax2.set_yticks([-2,2])\n",
    "ax2.set_ylim([-2,2])\n",
    "ax2.spines['top'].set_visible(False)\n",
    "ax2.spines['right'].set_visible(False)\n",
    "ax2.spines['bottom'].set_linewidth(1)\n",
    "ax2.spines['left'].set_linewidth(False)\n",
    "\n",
    "# subplot 3\n",
    "cax = fig.add_axes([.93, .28, .02, .2])\n",
    "sns.set(font_scale = 0.02)\n",
    "ax_h = sns.heatmap(plot_matrix_quintile.T,\n",
    "                 cmap='bwr',\n",
    "                   vmin=-1.5, vmax=1.5, center=0,\n",
    "                yticklabels=GENES_TO_PLOT,\n",
    "                xticklabels=[],\n",
    "                 ax=ax3,\n",
    "                cbar_ax=cax)\n",
    "cbar_kws=dict(ticks=[])\n",
    "ax_h.vlines([group_len],*ax_h.get_ylim(), color='k',linewidth=0.5)\n",
    "fig.savefig('%s/heatmap_decile_p65_nCLR_genes.pdf' %(sc.settings.figdir), bbox_inches='tight')\n",
    "\n",
    "sns.reset_orig()"
   ]
  },
  {
   "cell_type": "code",
   "execution_count": null,
   "metadata": {},
   "outputs": [],
   "source": []
  }
 ],
 "metadata": {
  "kernelspec": {
   "display_name": "Python 3",
   "language": "python",
   "name": "python3"
  },
  "language_info": {
   "codemirror_mode": {
    "name": "ipython",
    "version": 3
   },
   "file_extension": ".py",
   "mimetype": "text/x-python",
   "name": "python",
   "nbconvert_exporter": "python",
   "pygments_lexer": "ipython3",
   "version": "3.6.8"
  },
  "toc": {
   "base_numbering": 1,
   "nav_menu": {},
   "number_sections": true,
   "sideBar": true,
   "skip_h1_title": false,
   "title_cell": "Table of Contents",
   "title_sidebar": "Contents",
   "toc_cell": false,
   "toc_position": {
    "height": "calc(100% - 180px)",
    "left": "10px",
    "top": "150px",
    "width": "304.41px"
   },
   "toc_section_display": true,
   "toc_window_display": true
  }
 },
 "nbformat": 4,
 "nbformat_minor": 2
}
